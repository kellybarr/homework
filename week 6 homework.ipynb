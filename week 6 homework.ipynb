{
 "cells": [
  {
   "cell_type": "markdown",
   "metadata": {},
   "source": [
    "# Pseudocode for DNA translation"
   ]
  },
  {
   "cell_type": "markdown",
   "metadata": {},
   "source": [
    "### seems like a dictionary would be awesome here\n",
    "### read 3 letter DNA codes and resulting protein tranlation into a dictionary\n",
    "### search a DNA sequence for AUG as the starting codon\n",
    "### iterate through rest of sequence and translate using the dictionary\n",
    "### kick out amino acid sequence\n"
   ]
  },
  {
   "cell_type": "code",
   "execution_count": 3,
   "metadata": {
    "collapsed": true
   },
   "outputs": [],
   "source": [
    "dna = \"ATGTTCGGT\""
   ]
  },
  {
   "cell_type": "code",
   "execution_count": 4,
   "metadata": {
    "collapsed": false
   },
   "outputs": [
    {
     "name": "stdout",
     "output_type": "stream",
     "text": [
      "one codon is ATG\n",
      "one codon is TTC\n",
      "one codon is GGT\n"
     ]
    }
   ],
   "source": [
    "for start in range(0,7,3):\n",
    "    codon = dna[start:start+3]\n",
    "    print(\"one codon is \" + codon)"
   ]
  },
  {
   "cell_type": "code",
   "execution_count": 5,
   "metadata": {
    "collapsed": false
   },
   "outputs": [
    {
     "name": "stdout",
     "output_type": "stream",
     "text": [
      "one codon is ATG\n",
      "one codon is TTC\n",
      "one codon is GGT\n"
     ]
    }
   ],
   "source": [
    "last_codon_start = len(dna)\n",
    "for start in range(0,last_codon_start,3):\n",
    "    codon = dna[start:start+3]\n",
    "    print(\"one codon is \" + codon)"
   ]
  },
  {
   "cell_type": "code",
   "execution_count": 6,
   "metadata": {
    "collapsed": true
   },
   "outputs": [],
   "source": [
    "gencode = {\n",
    "'ATA':'I', 'ATC':'I',\n",
    "'ACA':'T', 'ACC':'T',\n",
    "'AAC':'N', 'AAT':'N',\n",
    "'AGC':'S', 'AGT':'S',\n",
    "'CTA':'L', 'CTC':'L',\n",
    "'CCA':'P', 'CCC':'P',\n",
    "'CAC':'H', 'CAT':'H',\n",
    "'CGA':'R', 'CGC':'R',\n",
    "'GTA':'V', 'GTC':'V',\n",
    "'GCA':'A', 'GCC':'A',\n",
    "'GAC':'D', 'GAT':'D',\n",
    "'GGA':'G', 'GGC':'G',\n",
    "'TCA':'S', 'TCC':'S',\n",
    "'TTC':'F', 'TTT':'F',\n",
    "'TAC':'Y', 'TAT':'Y',\n",
    "'TGC':'C', 'TGT':'C',\n",
    "'ATT':'I',\n",
    "'ACG':'T',\n",
    "'AAA':'K',\n",
    "'AGA':'R',\n",
    "'CTG':'L',\n",
    "'CCG':'P',\n",
    "'CAA':'Q',\n",
    "'CGG':'R',\n",
    "'GTG':'V',\n",
    "'GCG':'A',\n",
    "'GAA':'E',\n",
    "'GGG':'G',\n",
    "'TCG':'S',\n",
    "'TTA':'L',\n",
    "'TAA':'_',\n",
    "'TGA':'_',\n",
    "'ATG':'M',\n",
    "'ACT':'T',\n",
    "'AAG':'K',\n",
    "'AGG':'R',\n",
    "'CTT':'L',\n",
    "'CCT':'P',\n",
    "'CAG':'Q',\n",
    "'CGT':'R',\n",
    "'GTT':'V',\n",
    "'GCT':'A',\n",
    "'GAG':'E',\n",
    "'GGT':'G',\n",
    "'TCT':'S',\n",
    "'TTG':'L',\n",
    "'TAG':'_',\n",
    "'TGG':'W'}"
   ]
  },
  {
   "cell_type": "code",
   "execution_count": 7,
   "metadata": {
    "collapsed": false
   },
   "outputs": [
    {
     "name": "stdout",
     "output_type": "stream",
     "text": [
      "H\n"
     ]
    }
   ],
   "source": [
    "print(gencode['CAT'])"
   ]
  },
  {
   "cell_type": "code",
   "execution_count": 11,
   "metadata": {
    "collapsed": false
   },
   "outputs": [
    {
     "name": "stdout",
     "output_type": "stream",
     "text": [
      "one codon is ATG\n",
      "the amino acid is M\n",
      "one codon is TTC\n",
      "the amino acid is F\n",
      "one codon is GGT\n",
      "the amino acid is G\n"
     ]
    }
   ],
   "source": [
    "last_codon_start = len(dna)\n",
    "protein = \"\"\n",
    "for start in range(0,last_codon_start,3):\n",
    "    codon = dna[start:start+3]\n",
    "    print(\"one codon is \" + codon)\n",
    "    aa = gencode.get(codon)\n",
    "    print(\"the amino acid is \" + aa)\n",
    "    protein = protein + aa"
   ]
  },
  {
   "cell_type": "code",
   "execution_count": 12,
   "metadata": {
    "collapsed": false
   },
   "outputs": [
    {
     "name": "stdout",
     "output_type": "stream",
     "text": [
      "protein sequence is MFG\n"
     ]
    }
   ],
   "source": [
    "print(\"protein sequence is \" + protein)"
   ]
  },
  {
   "cell_type": "code",
   "execution_count": 19,
   "metadata": {
    "collapsed": false
   },
   "outputs": [],
   "source": [
    "def translate_dna(dna):\n",
    "    last_codon_start = len(dna) - 2\n",
    "    protein = \"\"\n",
    "    for start in range(0,last_codon_start,3):\n",
    "        codon = dna[start:start+3]\n",
    "        aa = gencode.get(codon.upper(),'X')\n",
    "        protein = protein + aa\n",
    "    return protein"
   ]
  },
  {
   "cell_type": "code",
   "execution_count": 20,
   "metadata": {
    "collapsed": false
   },
   "outputs": [
    {
     "name": "stdout",
     "output_type": "stream",
     "text": [
      "MFG\n",
      "IDRSLLIDQ\n",
      "TDRS_LTYR\n",
      "TIDRXVRSYS\n"
     ]
    }
   ],
   "source": [
    "print(translate_dna(\"ATGTTCGGT\"))\n",
    "print(translate_dna(\"ATCGATCGATCGTTGCTTATCGATCAG\"))\n",
    "print(translate_dna(\"actgatcgtagctagctgacgtatcgtat\"))\n",
    "print(translate_dna(\"ACGATCGATCGTNACGTACGATCGTACTCG\"))"
   ]
  },
  {
   "cell_type": "code",
   "execution_count": 21,
   "metadata": {
    "collapsed": true
   },
   "outputs": [],
   "source": [
    "assert(translate_dna(\"ATGTTCGGT\")) == \"MFG\"\n",
    "assert(translate_dna(\"ATCGATCGATCGTTGCTTATCGATCAG\")) == \"IDRSLLIDQ\"\n",
    "assert(translate_dna(\"actgatcgtagcttgcttacgtatcgtat\")) == \"TDRSLLTYR\"\n",
    "assert(translate_dna(\"ACGATCGATCGTNACGTACGATCGTACTCG\")) == \"TIDRXVRSYS\""
   ]
  },
  {
   "cell_type": "markdown",
   "metadata": {},
   "source": [
    "# Switching to Allesina and Williams"
   ]
  },
  {
   "cell_type": "code",
   "execution_count": 35,
   "metadata": {
    "collapsed": false
   },
   "outputs": [],
   "source": [
    "import scipy # for random numbers\n",
    "\n",
    "def build_population(N, p):\n",
    "    population = []\n",
    "    for i in range(N):\n",
    "        allele1 = \"A\"\n",
    "        if scipy.random.rand() > p:\n",
    "            allele1 = \"a\"\n",
    "        allele2 = \"A\"\n",
    "        if scipy.random.rand() > p:\n",
    "            allele2 = \"a\"\n",
    "        population.append((allele1, allele2))\n",
    "    return population"
   ]
  },
  {
   "cell_type": "code",
   "execution_count": 36,
   "metadata": {
    "collapsed": false
   },
   "outputs": [
    {
     "data": {
      "text/plain": [
       "[('A', 'A'),\n",
       " ('A', 'a'),\n",
       " ('a', 'A'),\n",
       " ('A', 'A'),\n",
       " ('A', 'a'),\n",
       " ('a', 'A'),\n",
       " ('A', 'a'),\n",
       " ('a', 'A'),\n",
       " ('a', 'a'),\n",
       " ('A', 'A')]"
      ]
     },
     "execution_count": 36,
     "metadata": {},
     "output_type": "execute_result"
    }
   ],
   "source": [
    "build_population(10, 0.7)\n"
   ]
  },
  {
   "cell_type": "code",
   "execution_count": 37,
   "metadata": {
    "collapsed": false
   },
   "outputs": [],
   "source": [
    "def compute_frequencies(population):\n",
    "    AA = population.count(('A','A'))\n",
    "    Aa = population.count(('A','a'))\n",
    "    aA = population.count(('a','A'))\n",
    "    aa = population.count(('a','a'))\n",
    "    return({'AA': AA,\n",
    "            'aa': aa,\n",
    "            'Aa': Aa,\n",
    "            'aA': aA})\n",
    "\n",
    "    "
   ]
  },
  {
   "cell_type": "code",
   "execution_count": 38,
   "metadata": {
    "collapsed": false
   },
   "outputs": [
    {
     "data": {
      "text/plain": [
       "{'AA': 1, 'Aa': 1, 'aA': 3, 'aa': 1}"
      ]
     },
     "execution_count": 38,
     "metadata": {},
     "output_type": "execute_result"
    }
   ],
   "source": [
    "my_pop = build_population(6,0.5)\n",
    "my_pop\n",
    "compute_frequencies(my_pop)"
   ]
  },
  {
   "cell_type": "code",
   "execution_count": 42,
   "metadata": {
    "collapsed": false
   },
   "outputs": [],
   "source": [
    "def reproduce_population(population):\n",
    "    new_generation = []\n",
    "    N = len(population)\n",
    "    for i in range(N):\n",
    "        dad = scipy.random.randint(N)\n",
    "        mom = scipy.random.randint(N)\n",
    "        chr_mom = scipy.random.randint(2)\n",
    "        offspring = (population[mom][chr_mom],population[dad][1 - chr_mom])\n",
    "        new_generation.append(offspring)\n",
    "    return(new_generation)"
   ]
  },
  {
   "cell_type": "code",
   "execution_count": 43,
   "metadata": {
    "collapsed": false
   },
   "outputs": [
    {
     "data": {
      "text/plain": [
       "[('a', 'A'), ('A', 'a'), ('A', 'a'), ('A', 'a'), ('a', 'a'), ('A', 'A')]"
      ]
     },
     "execution_count": 43,
     "metadata": {},
     "output_type": "execute_result"
    }
   ],
   "source": [
    "reproduce_population(my_pop)"
   ]
  },
  {
   "cell_type": "code",
   "execution_count": 52,
   "metadata": {
    "collapsed": false
   },
   "outputs": [],
   "source": [
    "def simulate_drift(N,p):\n",
    "    my_pop = build_population(N,p)\n",
    "    fixation = False\n",
    "    num_generations = 0\n",
    "    while fixation == False:\n",
    "        genotype_counts = compute_frequencies(my_pop)\n",
    "        if genotype_counts['AA'] == N or genotype_counts['aa'] ==N:\n",
    "            print('An allele reached fixation at generation ', num_generations)\n",
    "            print('The genotype counts are ', genotype_counts)\n",
    "            fixation == True\n",
    "            break\n",
    "        my_pop = reproduce_population(my_pop)\n",
    "        num_generations = num_generations + 1"
   ]
  },
  {
   "cell_type": "code",
   "execution_count": 53,
   "metadata": {
    "collapsed": false
   },
   "outputs": [
    {
     "name": "stdout",
     "output_type": "stream",
     "text": [
      "An allele reached fixation at generation  141\n",
      "The genotype counts are  {'aa': 0, 'AA': 100, 'Aa': 0, 'aA': 0}\n"
     ]
    }
   ],
   "source": [
    "simulate_drift(100,0.5)"
   ]
  },
  {
   "cell_type": "code",
   "execution_count": 54,
   "metadata": {
    "collapsed": false
   },
   "outputs": [
    {
     "name": "stdout",
     "output_type": "stream",
     "text": [
      "An allele reached fixation at generation  42\n",
      "The genotype counts are  {'aa': 0, 'AA': 100, 'Aa': 0, 'aA': 0}\n"
     ]
    }
   ],
   "source": [
    "simulate_drift(100,0.9)"
   ]
  },
  {
   "cell_type": "markdown",
   "metadata": {},
   "source": [
    "# 4.9.1"
   ]
  },
  {
   "cell_type": "code",
   "execution_count": 56,
   "metadata": {
    "collapsed": true
   },
   "outputs": [],
   "source": [
    "import csv"
   ]
  },
  {
   "cell_type": "code",
   "execution_count": 58,
   "metadata": {
    "collapsed": false
   },
   "outputs": [],
   "source": [
    "with open ('/home/eeb177-student/Downloads/Jiang2013_data.csv') as csvfile:\n",
    "    reader = csv.DictReader(csvfile, delimiter = '\\t')\n",
    "    taxa = []\n",
    "    r_values = []\n",
    "    for row in reader:\n",
    "        taxa.append(row['Taxon'])\n",
    "        r_values.append(float(row['r']))\n"
   ]
  },
  {
   "cell_type": "code",
   "execution_count": 59,
   "metadata": {
    "collapsed": false
   },
   "outputs": [
    {
     "data": {
      "text/plain": [
       "['Fish', 'Fish', 'Fish', 'Amphibian', 'Amphibian']"
      ]
     },
     "execution_count": 59,
     "metadata": {},
     "output_type": "execute_result"
    }
   ],
   "source": [
    "taxa[:5]"
   ]
  },
  {
   "cell_type": "code",
   "execution_count": 60,
   "metadata": {
    "collapsed": false
   },
   "outputs": [
    {
     "data": {
      "text/plain": [
       "[-0.11, 0.38, 0.51, 0.868, 0.297]"
      ]
     },
     "execution_count": 60,
     "metadata": {},
     "output_type": "execute_result"
    }
   ],
   "source": [
    "r_values[:5]"
   ]
  },
  {
   "cell_type": "code",
   "execution_count": 69,
   "metadata": {
    "collapsed": false
   },
   "outputs": [],
   "source": [
    "def get_mean_r(names,values,target_taxon='Fish'):\n",
    "    n = len(names)\n",
    "    mean_r = 0.0\n",
    "    sample_size = 0\n",
    "    for i in range(n):\n",
    "        if names[i] == target_taxon:\n",
    "            mean_r = mean_r + values[i]\n",
    "            sample_size = sample_size + 1\n",
    "    return mean_r/sample_size"
   ]
  },
  {
   "cell_type": "code",
   "execution_count": 70,
   "metadata": {
    "collapsed": false
   },
   "outputs": [
    {
     "data": {
      "text/plain": [
       "0.39719005173783783"
      ]
     },
     "execution_count": 70,
     "metadata": {},
     "output_type": "execute_result"
    }
   ],
   "source": [
    "get_mean_r(taxa,r_values,target_taxon = 'Fish')"
   ]
  },
  {
   "cell_type": "code",
   "execution_count": 71,
   "metadata": {
    "collapsed": true
   },
   "outputs": [],
   "source": [
    "def get_taxa_list(names):\n",
    "    return(set(names))"
   ]
  },
  {
   "cell_type": "code",
   "execution_count": 72,
   "metadata": {
    "collapsed": false
   },
   "outputs": [
    {
     "data": {
      "text/plain": [
       "{'Amphibian',\n",
       " 'Annelids',\n",
       " 'Bird',\n",
       " 'Chelicerate',\n",
       " 'Crustacean',\n",
       " 'Fish',\n",
       " 'Gastropod',\n",
       " 'Insect',\n",
       " 'Mammal',\n",
       " 'Protist',\n",
       " 'Reptile'}"
      ]
     },
     "execution_count": 72,
     "metadata": {},
     "output_type": "execute_result"
    }
   ],
   "source": [
    "get_taxa_list(taxa)"
   ]
  },
  {
   "cell_type": "code",
   "execution_count": 73,
   "metadata": {
    "collapsed": false
   },
   "outputs": [
    {
     "name": "stdout",
     "output_type": "stream",
     "text": [
      "Reptile 0.11750000000000002\n",
      "Gastropod 0.40099999999999997\n",
      "Amphibian 0.18552824175524468\n",
      "Protist 0.61402\n",
      "Fish 0.39719005173783783\n",
      "Bird 0.13175671104423078\n",
      "Crustacean 0.40302827731946345\n",
      "Chelicerate 0.49113529650000004\n",
      "Mammal 0.009\n",
      "Annelids 0.2\n",
      "Insect 0.19664531553867934\n"
     ]
    }
   ],
   "source": [
    "for t in get_taxa_list(taxa):\n",
    "    print(t, get_mean_r(taxa,r_values,target_taxon = t))"
   ]
  },
  {
   "cell_type": "code",
   "execution_count": 75,
   "metadata": {
    "collapsed": false
   },
   "outputs": [],
   "source": [
    "def get_p_value_for_mean_r(names,values,target_taxon='Fish',num_simulations=1000):\n",
    "    observed = get_mean_r(names,values,target_taxon)\n",
    "    rnd_names = names[:]\n",
    "    p_value = 0.0\n",
    "    for i in range(num_simulations):\n",
    "        scipy.random.shuffle(rnd_names)\n",
    "        tmp = get_mean_r(rnd_names,values,target_taxon)\n",
    "        if tmp >= observed:\n",
    "            p_value = p_value +1\n",
    "    p_value = p_value/num_simulations\n",
    "    return(target_taxon, round(observed,3),round(p_value,5))"
   ]
  },
  {
   "cell_type": "code",
   "execution_count": 76,
   "metadata": {
    "collapsed": false
   },
   "outputs": [
    {
     "data": {
      "text/plain": [
       "('Fish', 0.397, 0.00386)"
      ]
     },
     "execution_count": 76,
     "metadata": {},
     "output_type": "execute_result"
    }
   ],
   "source": [
    "get_p_value_for_mean_r(taxa,r_values,'Fish',50000)"
   ]
  },
  {
   "cell_type": "code",
   "execution_count": 77,
   "metadata": {
    "collapsed": false
   },
   "outputs": [
    {
     "name": "stdout",
     "output_type": "stream",
     "text": [
      "('Reptile', 0.118, 0.93182)\n",
      "('Gastropod', 0.401, 0.07896)\n",
      "('Amphibian', 0.186, 0.99996)\n",
      "('Protist', 0.614, 0.0034)\n",
      "('Fish', 0.397, 0.00294)\n",
      "('Bird', 0.132, 0.9998)\n",
      "('Crustacean', 0.403, 0.0)\n",
      "('Chelicerate', 0.491, 0.01132)\n",
      "('Mammal', 0.009, 0.84272)\n",
      "('Annelids', 0.2, 0.59062)\n",
      "('Insect', 0.197, 0.99856)\n"
     ]
    }
   ],
   "source": [
    "for t in get_taxa_list(taxa):\n",
    "    print(get_p_value_for_mean_r(taxa,r_values,t,50000))"
   ]
  },
  {
   "cell_type": "code",
   "execution_count": null,
   "metadata": {
    "collapsed": true
   },
   "outputs": [],
   "source": []
  }
 ],
 "metadata": {
  "anaconda-cloud": {},
  "kernelspec": {
   "display_name": "Python [conda root]",
   "language": "python",
   "name": "conda-root-py"
  },
  "language_info": {
   "codemirror_mode": {
    "name": "ipython",
    "version": 3
   },
   "file_extension": ".py",
   "mimetype": "text/x-python",
   "name": "python",
   "nbconvert_exporter": "python",
   "pygments_lexer": "ipython3",
   "version": "3.5.2"
  }
 },
 "nbformat": 4,
 "nbformat_minor": 2
}
