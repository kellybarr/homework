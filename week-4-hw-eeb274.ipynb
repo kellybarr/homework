{
 "cells": [
  {
   "cell_type": "code",
   "execution_count": 1,
   "metadata": {
    "collapsed": true
   },
   "outputs": [],
   "source": [
    "my_dna=\"AGCTATATCATACGGGTTTCCCCAAAATAGCA\""
   ]
  },
  {
   "cell_type": "code",
   "execution_count": 9,
   "metadata": {
    "collapsed": false
   },
   "outputs": [
    {
     "name": "stdout",
     "output_type": "stream",
     "text": [
      "TGCTTTTTCTTTCGGGTTTCCCCTTTTTTGCT\n"
     ]
    }
   ],
   "source": [
    "dna_replacedA=my_dna.replace(\"A\",\"T\")\n",
    "print(dna_replacedA)"
   ]
  },
  {
   "cell_type": "code",
   "execution_count": 10,
   "metadata": {
    "collapsed": false
   },
   "outputs": [
    {
     "name": "stdout",
     "output_type": "stream",
     "text": [
      "AGCAAAAACAAACGGGAAACCCCAAAAAAGCA\n"
     ]
    }
   ],
   "source": [
    "dna_replacedT=dna_replacedA.replace('T','A')\n",
    "print(dna_replacedT)"
   ]
  },
  {
   "cell_type": "code",
   "execution_count": 12,
   "metadata": {
    "collapsed": false
   },
   "outputs": [
    {
     "name": "stdout",
     "output_type": "stream",
     "text": [
      "AGGTATATGATAGGGGTTTGGGGAAAATAGGA\n"
     ]
    }
   ],
   "source": [
    "dna_replacedC=dna_replacedT.replace('C',\"G\")\n",
    "print(dna_replacedC)"
   ]
  },
  {
   "cell_type": "code",
   "execution_count": 6,
   "metadata": {
    "collapsed": true
   },
   "outputs": [],
   "source": [
    "dna_replacedG=dna_replacedC.replace(\"G\",\"C\")"
   ]
  },
  {
   "cell_type": "code",
   "execution_count": 8,
   "metadata": {
    "collapsed": false
   },
   "outputs": [
    {
     "name": "stdout",
     "output_type": "stream",
     "text": [
      "ACCTATATCATACCCCTTTCCCCAAAATACCA\n"
     ]
    }
   ],
   "source": [
    "print(dna_replacedG)"
   ]
  },
  {
   "cell_type": "code",
   "execution_count": 13,
   "metadata": {
    "collapsed": false
   },
   "outputs": [
    {
     "name": "stdout",
     "output_type": "stream",
     "text": [
      "TGACTAGCTAATGCATATCATAAACGATAGTATGTATATATAGCTACGCAAGTA\n"
     ]
    }
   ],
   "source": [
    "my_dna = \"ACTGATCGATTACGTATAGTATTTGCTATCATACATATATATCGATGCGTTCAT\"\n",
    "replacement1 = my_dna.replace('A', 'H')\n",
    "replacement2 = replacement1.replace('T', 'J')\n",
    "replacement3 = replacement2.replace('C', 'K')\n",
    "replacement4 = replacement3.replace('G', 'L')\n",
    "replacement5 = replacement4.replace('H', 'T')\n",
    "replacement6 = replacement5.replace('J', 'A')\n",
    "replacement7 = replacement6.replace('K', 'G')\n",
    "replacement8 = replacement7.replace('L', 'C')\n",
    "print(replacement8)\n"
   ]
  },
  {
   "cell_type": "code",
   "execution_count": 14,
   "metadata": {
    "collapsed": false
   },
   "outputs": [
    {
     "name": "stdout",
     "output_type": "stream",
     "text": [
      "tCTGtTCGtTTtCGTtTtGTtTTTGCTtTCtTtCtTtTtTtTCGtTGCGTTCtT\n",
      "tCaGtaCGtaatCGatatGataaaGCataCtatCtatatataCGtaGCGaaCta\n",
      "tgaGtagGtaatgGatatGataaaGgatagtatgtatatatagGtaGgGaagta\n",
      "tgactagctaatgcatatcataaacgatagtatgtatatatagctacgcaagta\n",
      "TGACTAGCTAATGCATATCATAAACGATAGTATGTATATATAGCTACGCAAGTA\n"
     ]
    }
   ],
   "source": [
    "my_dna = \"ACTGATCGATTACGTATAGTATTTGCTATCATACATATATATCGATGCGTTCAT\"\n",
    "replacement1 = my_dna.replace('A', 't')\n",
    "print(replacement1)\n",
    "replacement2 = replacement1.replace('T', 'a')\n",
    "print(replacement2)\n",
    "replacement3 = replacement2.replace('C', 'g')\n",
    "print(replacement3)\n",
    "replacement4 = replacement3.replace('G', 'c')\n",
    "print(replacement4)\n",
    "print(replacement4.upper())"
   ]
  },
  {
   "cell_type": "code",
   "execution_count": 15,
   "metadata": {
    "collapsed": false
   },
   "outputs": [
    {
     "name": "stdout",
     "output_type": "stream",
     "text": [
      "length of fragment one is 22\n",
      "length of fragment two is 33\n"
     ]
    }
   ],
   "source": [
    "my_dna = \"ACTGATCGATTACGTATAGTAGAATTCTATCATACATATATATCGATGCGTTCAT\"\n",
    "frag1_length = my_dna.find(\"GAATTC\") + 1\n",
    "frag2_length = len(my_dna) - frag1_length\n",
    "print(\"length of fragment one is \" + str(frag1_length))\n",
    "print(\"length of fragment two is \" + str(frag2_length))"
   ]
  },
  {
   "cell_type": "code",
   "execution_count": 43,
   "metadata": {
    "collapsed": true
   },
   "outputs": [],
   "source": [
    "my_file=open(\"myDNA.txt\")"
   ]
  },
  {
   "cell_type": "code",
   "execution_count": 17,
   "metadata": {
    "collapsed": true
   },
   "outputs": [],
   "source": [
    "my_string='ABCDEFG'"
   ]
  },
  {
   "cell_type": "code",
   "execution_count": 18,
   "metadata": {
    "collapsed": false
   },
   "outputs": [
    {
     "name": "stdout",
     "output_type": "stream",
     "text": [
      "ABCDEFG\n"
     ]
    }
   ],
   "source": [
    "print(my_string)"
   ]
  },
  {
   "cell_type": "code",
   "execution_count": 20,
   "metadata": {
    "collapsed": false
   },
   "outputs": [],
   "source": [
    "file_contents=my_file.read()"
   ]
  },
  {
   "cell_type": "code",
   "execution_count": 21,
   "metadata": {
    "collapsed": false
   },
   "outputs": [
    {
     "name": "stdout",
     "output_type": "stream",
     "text": [
      "ACTGTACGTGCACTGATC\n",
      "\n"
     ]
    }
   ],
   "source": [
    "print(file_contents)"
   ]
  },
  {
   "cell_type": "code",
   "execution_count": 63,
   "metadata": {
    "collapsed": true
   },
   "outputs": [],
   "source": [
    "my_file=open(\"myDNA.txt\")"
   ]
  },
  {
   "cell_type": "raw",
   "metadata": {},
   "source": [
    "my_contents=my_file.read()\n",
    "my_dna=my_contents.rstrip(\"\\n\")"
   ]
  },
  {
   "cell_type": "code",
   "execution_count": 59,
   "metadata": {
    "collapsed": true
   },
   "outputs": [],
   "source": [
    "dna_length=len(my_dna)"
   ]
  },
  {
   "cell_type": "code",
   "execution_count": 60,
   "metadata": {
    "collapsed": false
   },
   "outputs": [
    {
     "name": "stdout",
     "output_type": "stream",
     "text": [
      "sequence is ACTGTACGTGCACTGATC and the length is 18\n"
     ]
    }
   ],
   "source": [
    "print(\"sequence is \"+ my_dna +\" and the length is \" + str(dna_length))"
   ]
  },
  {
   "cell_type": "code",
   "execution_count": 64,
   "metadata": {
    "collapsed": true
   },
   "outputs": [],
   "source": [
    "my_dna2 = my_file.read().rstrip(\"\\n\")"
   ]
  },
  {
   "cell_type": "code",
   "execution_count": 65,
   "metadata": {
    "collapsed": false
   },
   "outputs": [
    {
     "name": "stdout",
     "output_type": "stream",
     "text": [
      "ACTGTACGTGCACTGATC\n"
     ]
    }
   ],
   "source": [
    "print(my_dna2)"
   ]
  },
  {
   "cell_type": "code",
   "execution_count": 71,
   "metadata": {
    "collapsed": false
   },
   "outputs": [
    {
     "data": {
      "text/plain": [
       "11"
      ]
     },
     "execution_count": 71,
     "metadata": {},
     "output_type": "execute_result"
    }
   ],
   "source": [
    "my_file = open(\"out.txt\", \"w\")\n",
    "my_file.write(\"Hello world\")"
   ]
  },
  {
   "cell_type": "code",
   "execution_count": 73,
   "metadata": {
    "collapsed": false
   },
   "outputs": [
    {
     "data": {
      "text/plain": [
       "9"
      ]
     },
     "execution_count": 73,
     "metadata": {},
     "output_type": "execute_result"
    }
   ],
   "source": [
    "my_variable=\"something\"\n",
    "# write \"abcdef\"\n",
    "my_file.write(\"abc\" + \"def\")\n",
    "# write \"8\"\n",
    "my_file.write(str(len('AGTGCTAG')))\n",
    "# write \"TTGC\"\n",
    "my_file.write(\"ATGC\".replace('A', 'T'))\n",
    "# write \"atgc\"\n",
    "my_file.write(\"ATGC\".lower())\n",
    "# write contents of my_variable\n",
    "my_file.write(my_variable)"
   ]
  },
  {
   "cell_type": "code",
   "execution_count": 74,
   "metadata": {
    "collapsed": true
   },
   "outputs": [],
   "source": [
    "my_file = open(\"out.txt\", \"w\")\n",
    "my_file.write(\"Hello world\")\n",
    "# remember to close the file\n",
    "my_file.close()"
   ]
  },
  {
   "cell_type": "code",
   "execution_count": 79,
   "metadata": {
    "collapsed": false
   },
   "outputs": [
    {
     "name": "stdout",
     "output_type": "stream",
     "text": [
      "ATCGATCGATCGATCGACTGACTAGTCATAGCTATGCATGTAGCTACTCGATCGATCGATCGATCGATCGATCGATCGATCGATCATGCTATCATCGATCGATATCGATGCATCGACTACTAT\n",
      "\n"
     ]
    }
   ],
   "source": [
    "dna_data_file= open(\"/home/eeb177-student/Desktop/eeb274/homework/Chapter 3/exercises/genomic_dna.txt\")\n",
    "dna_data=dna_data_file.read()\n",
    "print(dna_data)"
   ]
  },
  {
   "cell_type": "code",
   "execution_count": 81,
   "metadata": {
    "collapsed": false
   },
   "outputs": [
    {
     "name": "stdout",
     "output_type": "stream",
     "text": [
      "ATCGATCGATCGATCGATCGATCATGCT\n"
     ]
    }
   ],
   "source": [
    "exon1 = dna_data[0:62]\n",
    "intron = dna_data[62:90]\n",
    "exon2 = dna_data[90:]\n",
    "print(intron)"
   ]
  },
  {
   "cell_type": "code",
   "execution_count": 82,
   "metadata": {
    "collapsed": true
   },
   "outputs": [],
   "source": [
    "coding_file = open(\"exon_dna.txt\", \"w\")\n",
    "noncoding_file = open(\"intron_dna.txt\", \"w\")"
   ]
  },
  {
   "cell_type": "code",
   "execution_count": 83,
   "metadata": {
    "collapsed": false
   },
   "outputs": [
    {
     "data": {
      "text/plain": [
       "28"
      ]
     },
     "execution_count": 83,
     "metadata": {},
     "output_type": "execute_result"
    }
   ],
   "source": [
    "coding_file.write(exon1 + exon2)\n",
    "noncoding_file.write(intron)"
   ]
  },
  {
   "cell_type": "code",
   "execution_count": 84,
   "metadata": {
    "collapsed": true
   },
   "outputs": [],
   "source": [
    "coding_file.close()\n",
    "noncoding_file.close()"
   ]
  },
  {
   "cell_type": "code",
   "execution_count": 85,
   "metadata": {
    "collapsed": true
   },
   "outputs": [],
   "source": [
    "first_fasta=open(\"test_fasta.fa\",\"w\")"
   ]
  },
  {
   "cell_type": "code",
   "execution_count": 86,
   "metadata": {
    "collapsed": true
   },
   "outputs": [],
   "source": [
    "seq_header1=\"ABC123\"\n",
    "seq_header2=\"DEF456\"\n",
    "seq_header3=\"HIJ789\"\n",
    "DNAseq1=\"AGAGCAGTACGGTTCCAA\"\n",
    "DNAseq2=\"agcatcaaggccttaacagt\"\n",
    "DNAseq3=\"ACT--GGAACCTTACT--------AC\""
   ]
  },
  {
   "cell_type": "code",
   "execution_count": 88,
   "metadata": {
    "collapsed": false
   },
   "outputs": [
    {
     "data": {
      "text/plain": [
       "27"
      ]
     },
     "execution_count": 88,
     "metadata": {},
     "output_type": "execute_result"
    }
   ],
   "source": [
    "first_fasta.write('>' + seq_header1 + '\\n' + DNAseq1 + '\\n')"
   ]
  },
  {
   "cell_type": "code",
   "execution_count": 90,
   "metadata": {
    "collapsed": false
   },
   "outputs": [
    {
     "data": {
      "text/plain": [
       "29"
      ]
     },
     "execution_count": 90,
     "metadata": {},
     "output_type": "execute_result"
    }
   ],
   "source": [
    "first_fasta.write('>' + seq_header2 + '\\n' + DNAseq2.upper() + '\\n')"
   ]
  },
  {
   "cell_type": "code",
   "execution_count": 91,
   "metadata": {
    "collapsed": false
   },
   "outputs": [
    {
     "data": {
      "text/plain": [
       "25"
      ]
     },
     "execution_count": 91,
     "metadata": {},
     "output_type": "execute_result"
    }
   ],
   "source": [
    "first_fasta.write('>' + seq_header3 + '\\n' + DNAseq3.replace(\"-\",\"\") + '\\n')"
   ]
  },
  {
   "cell_type": "code",
   "execution_count": 92,
   "metadata": {
    "collapsed": true
   },
   "outputs": [],
   "source": [
    "first_fasta.close()"
   ]
  },
  {
   "cell_type": "code",
   "execution_count": 94,
   "metadata": {
    "collapsed": false
   },
   "outputs": [],
   "source": [
    "fasta1 = open(seq_header1 + \".fa\", \"w\")\n",
    "fasta2 = open(seq_header2 + \".fa\", \"w\")\n",
    "fasta3 = open(seq_header3 + \".fa\", \"w\")"
   ]
  },
  {
   "cell_type": "code",
   "execution_count": 96,
   "metadata": {
    "collapsed": false
   },
   "outputs": [
    {
     "data": {
      "text/plain": [
       "24"
      ]
     },
     "execution_count": 96,
     "metadata": {},
     "output_type": "execute_result"
    }
   ],
   "source": [
    "fasta1.write('>' + seq_header1 + '\\n' + DNAseq1 + '\\n')\n",
    "fasta2.write('>' + seq_header2 + '\\n' + DNAseq2.upper() + '\\n')\n",
    "fasta3.write('>' + seq_header3 + '\\n' + DNAseq3.replace(\"-\",\"\"))"
   ]
  },
  {
   "cell_type": "code",
   "execution_count": 97,
   "metadata": {
    "collapsed": true
   },
   "outputs": [],
   "source": [
    "fasta1.close()\n",
    "fasta2.close()\n",
    "fasta3.close()"
   ]
  },
  {
   "cell_type": "code",
   "execution_count": 101,
   "metadata": {
    "collapsed": false
   },
   "outputs": [],
   "source": [
    "\n",
    "#the values of all the sequence variables\n",
    "seq_1= \"ATCGTACGATCGATCGATCGCTAGACGTATCG\"\n",
    "seq_2= \"actgatcgacgatcgatcgatcacgact\"\n",
    "seq_3= \"ACTGAC-ACTGT—ACTGTA----CATGTG\""
   ]
  },
  {
   "cell_type": "code",
   "execution_count": 102,
   "metadata": {
    "collapsed": true
   },
   "outputs": [],
   "source": [
    "# make three files to hold\n",
    "output_1 = open(\"seq1.fa\",\"w\")\n",
    "output_2 = open(\"seq2.fa\",\"w\")\n",
    "output_3 = open(\"seq3.fa\",\"w\")\n"
   ]
  },
  {
   "cell_type": "code",
   "execution_count": 103,
   "metadata": {
    "collapsed": true
   },
   "outputs": [],
   "source": [
    "apes = [\"Homo sapiens\", \"Pan troglodytes\", \"Gorilla gorilla\"]\n",
    "conserved_sites = [24, 56, 132]"
   ]
  },
  {
   "cell_type": "code",
   "execution_count": 104,
   "metadata": {
    "collapsed": false
   },
   "outputs": [
    {
     "name": "stdout",
     "output_type": "stream",
     "text": [
      "Homo sapiens\n"
     ]
    }
   ],
   "source": [
    "apes = [\"Homo sapiens\", \"Pan troglodytes\", \"Gorilla gorilla\"]\n",
    "conserved_sites = [24, 56, 132]\n",
    "print(apes[0])\n",
    "first_site = conserved_sites[2]"
   ]
  },
  {
   "cell_type": "code",
   "execution_count": 105,
   "metadata": {
    "collapsed": true
   },
   "outputs": [],
   "source": [
    "apes = [\"Homo sapiens\", \"Pan troglodytes\", \"Gorilla gorilla\"]\n",
    "chimp_index = apes.index(\"Pan troglodytes\")"
   ]
  },
  {
   "cell_type": "code",
   "execution_count": 106,
   "metadata": {
    "collapsed": true
   },
   "outputs": [],
   "source": [
    "last_ape = apes[-1]"
   ]
  },
  {
   "cell_type": "code",
   "execution_count": 107,
   "metadata": {
    "collapsed": true
   },
   "outputs": [],
   "source": [
    "ranks = [\"kingdom\",\"phylum\", \"class\", \"order\", \"family\"]\n",
    "lower_ranks = ranks[2:5]"
   ]
  },
  {
   "cell_type": "code",
   "execution_count": 108,
   "metadata": {
    "collapsed": true
   },
   "outputs": [],
   "source": [
    "apes.append(\"Pan paniscus\")"
   ]
  },
  {
   "cell_type": "code",
   "execution_count": 109,
   "metadata": {
    "collapsed": false
   },
   "outputs": [
    {
     "name": "stdout",
     "output_type": "stream",
     "text": [
      "There are 3 apes\n",
      "Now there are 4 apes\n"
     ]
    }
   ],
   "source": [
    "apes = [\"Homo sapiens\", \"Pan troglodytes\", \"Gorilla gorilla\"]\n",
    "print(\"There are \" + str(len(apes)) + \" apes\")\n",
    "apes.append(\"Pan paniscus\")\n",
    "print(\"Now there are \" + str(len(apes)) + \" apes\")"
   ]
  },
  {
   "cell_type": "code",
   "execution_count": 110,
   "metadata": {
    "collapsed": false
   },
   "outputs": [
    {
     "name": "stdout",
     "output_type": "stream",
     "text": [
      "3 apes\n",
      "2 monkeys\n",
      "5 primates\n"
     ]
    }
   ],
   "source": [
    "apes = [\"Homo sapiens\", \"Pan troglodytes\", \"Gorilla gorilla\"]\n",
    "monkeys = [\"Papio ursinus\", \"Macaca mulatta\"]\n",
    "primates = apes + monkeys\n",
    "print(str(len(apes)) + \" apes\")\n",
    "print(str(len(monkeys)) + \" monkeys\")\n",
    "print(str(len(primates)) + \" primates\")"
   ]
  },
  {
   "cell_type": "code",
   "execution_count": 111,
   "metadata": {
    "collapsed": false
   },
   "outputs": [
    {
     "name": "stdout",
     "output_type": "stream",
     "text": [
      "at the start : ['kingdom', 'phylum', 'class', 'order', 'family']\n",
      "after reversing : ['family', 'order', 'class', 'phylum', 'kingdom']\n",
      "after sorting : ['class', 'family', 'kingdom', 'order', 'phylum']\n"
     ]
    }
   ],
   "source": [
    "ranks = [\"kingdom\",\"phylum\", \"class\", \"order\", \"family\"]\n",
    "print(\"at the start : \" + str(ranks))\n",
    "ranks.reverse()\n",
    "print(\"after reversing : \" + str(ranks))\n",
    "ranks.sort()\n",
    "print(\"after sorting : \" + str(ranks))"
   ]
  },
  {
   "cell_type": "code",
   "execution_count": 113,
   "metadata": {
    "collapsed": false
   },
   "outputs": [
    {
     "name": "stdout",
     "output_type": "stream",
     "text": [
      "Homo sapiens is an ape\n",
      "Pan troglodytes is an ape\n",
      "Gorilla gorilla is an ape\n"
     ]
    }
   ],
   "source": [
    "for ape in apes:\n",
    "    print(ape + \" is an ape\")"
   ]
  },
  {
   "cell_type": "code",
   "execution_count": 115,
   "metadata": {
    "collapsed": false
   },
   "outputs": [
    {
     "name": "stdout",
     "output_type": "stream",
     "text": [
      "Homo sapiens is an ape. Its name starts with H\n",
      "Its name has 12 letters\n",
      "Pan troglodytes is an ape. Its name starts with P\n",
      "Its name has 15 letters\n",
      "Gorilla gorilla is an ape. Its name starts with G\n",
      "Its name has 15 letters\n"
     ]
    }
   ],
   "source": [
    "for ape in apes:\n",
    "    name_length = len(ape)\n",
    "    first_letter = ape[0]\n",
    "    print(ape + \" is an ape. Its name starts with \" + first_letter)\n",
    "    print(\"Its name has \" + str(name_length) + \" letters\")"
   ]
  },
  {
   "cell_type": "code",
   "execution_count": 116,
   "metadata": {
    "collapsed": false
   },
   "outputs": [
    {
     "name": "stdout",
     "output_type": "stream",
     "text": [
      "['melanogaster', 'simulans', 'yakuba', 'ananassae']\n"
     ]
    }
   ],
   "source": [
    "names = \"melanogaster,simulans,yakuba,ananassae\"\n",
    "species = names.split(\",\")\n",
    "print(str(species))"
   ]
  },
  {
   "cell_type": "code",
   "execution_count": 117,
   "metadata": {
    "collapsed": false
   },
   "outputs": [
    {
     "name": "stdout",
     "output_type": "stream",
     "text": [
      "vls\n",
      "vlsp\n",
      "vlspa\n",
      "vlspad\n",
      "vlspadk\n",
      "vlspadkt\n",
      "vlspadktn\n",
      "vlspadktnv\n"
     ]
    }
   ],
   "source": [
    "protein = \"vlspadktnv\"\n",
    "stop_positions = [3,4,5,6,7,8,9,10]\n",
    "for stop in stop_positions:\n",
    "    substring = protein[0:stop]\n",
    "    print(substring)"
   ]
  },
  {
   "cell_type": "code",
   "execution_count": 118,
   "metadata": {
    "collapsed": false
   },
   "outputs": [
    {
     "name": "stdout",
     "output_type": "stream",
     "text": [
      "0\n",
      "1\n",
      "2\n",
      "3\n",
      "4\n",
      "5\n"
     ]
    }
   ],
   "source": [
    "for number in range(6):\n",
    "    print(number)"
   ]
  },
  {
   "cell_type": "code",
   "execution_count": 129,
   "metadata": {
    "collapsed": true
   },
   "outputs": [],
   "source": [
    "DNA_seqs_file=open(\"/home/eeb177-student/Desktop/eeb274/homework/Chapter 4/exercises/input.txt\")"
   ]
  },
  {
   "cell_type": "code",
   "execution_count": 130,
   "metadata": {
    "collapsed": true
   },
   "outputs": [],
   "source": [
    "out_DNAdata=open(\"trimmedDNA.txt\",\"w\")"
   ]
  },
  {
   "cell_type": "code",
   "execution_count": 131,
   "metadata": {
    "collapsed": false
   },
   "outputs": [
    {
     "name": "stdout",
     "output_type": "stream",
     "text": [
      "seq length of 43\n",
      "seq length of 38\n",
      "seq length of 49\n",
      "seq length of 34\n",
      "seq length of 48\n"
     ]
    }
   ],
   "source": [
    "for i in DNA_seqs_file:\n",
    "    trimmed_seq=i[14:]\n",
    "    trim_length=len(trimmed_seq)\n",
    "    out_DNAdata.write(trimmed_seq)\n",
    "    print(\"seq length of \" + str(trim_length))"
   ]
  },
  {
   "cell_type": "code",
   "execution_count": 132,
   "metadata": {
    "collapsed": true
   },
   "outputs": [],
   "source": [
    "out_DNAdata.close()"
   ]
  },
  {
   "cell_type": "code",
   "execution_count": 138,
   "metadata": {
    "collapsed": true
   },
   "outputs": [],
   "source": [
    "genomic_data=open(\"/home/eeb177-student/Desktop/eeb274/homework/Chapter 4/exercises/genomic_dna.txt\").read()\n",
    "exon_data=open(\"/home/eeb177-student/Desktop/eeb274/homework/Chapter 4/exercises/exons.txt\")"
   ]
  },
  {
   "cell_type": "code",
   "execution_count": 134,
   "metadata": {
    "collapsed": true
   },
   "outputs": [],
   "source": [
    "exon_segs =\"\""
   ]
  },
  {
   "cell_type": "code",
   "execution_count": 139,
   "metadata": {
    "collapsed": false
   },
   "outputs": [],
   "source": [
    "for line in exon_data:\n",
    "    pos = line.split(',')\n",
    "    start = int(pos[0])\n",
    "    stop = int(pos[1])\n",
    "    exon_here = genomic_data[start:stop]\n",
    "    exon_segs = exon_segs + exon_here"
   ]
  },
  {
   "cell_type": "code",
   "execution_count": 141,
   "metadata": {
    "collapsed": false
   },
   "outputs": [],
   "source": [
    "output = open(\"coding_sequence.txt\", \"w\")\n",
    "output.write(exon_segs)\n",
    "output.close()"
   ]
  },
  {
   "cell_type": "code",
   "execution_count": null,
   "metadata": {
    "collapsed": true
   },
   "outputs": [],
   "source": []
  }
 ],
 "metadata": {
  "anaconda-cloud": {},
  "kernelspec": {
   "display_name": "Python [conda root]",
   "language": "python",
   "name": "conda-root-py"
  },
  "language_info": {
   "codemirror_mode": {
    "name": "ipython",
    "version": 3
   },
   "file_extension": ".py",
   "mimetype": "text/x-python",
   "name": "python",
   "nbconvert_exporter": "python",
   "pygments_lexer": "ipython3",
   "version": "3.5.2"
  }
 },
 "nbformat": 4,
 "nbformat_minor": 2
}
